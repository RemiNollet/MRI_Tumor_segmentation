{
 "cells": [
  {
   "cell_type": "code",
   "execution_count": null,
   "id": "3e3573fa",
   "metadata": {},
   "outputs": [],
   "source": [
    "!pip install -r requirements.txt"
   ]
  },
  {
   "cell_type": "code",
   "execution_count": null,
   "id": "da355a96",
   "metadata": {},
   "outputs": [],
   "source": [
    "!curl -O https://blent-learning-user-ressources.s3.eu-west-3.amazonaws.com/projects/60fb61/brats_2019.zip \n",
    "!unzip -q brats_2019.zip -d data/"
   ]
  },
  {
   "cell_type": "code",
   "execution_count": 2,
   "id": "82e4022e",
   "metadata": {},
   "outputs": [],
   "source": [
    "import numpy as np\n",
    "import matplotlib.pyplot as plt\n",
    "import pandas as pd\n",
    "import tensorflow as tf\n",
    "import nibabel as nib\n",
    "import os\n",
    "import random\n",
    "from pathlib import Path\n",
    "\n"
   ]
  },
  {
   "cell_type": "markdown",
   "id": "91a2606b",
   "metadata": {},
   "source": [
    "# Dataset exploration"
   ]
  },
  {
   "cell_type": "code",
   "execution_count": null,
   "id": "3b9f9d3c",
   "metadata": {},
   "outputs": [],
   "source": [
    "HGG_path = Path((\"data/MICCAI_BraTS_2019_Data_Training/HGG/\"))\n",
    "LGG_path = Path((\"data/MICCAI_BraTS_2019_Data_Training/LGG/\"))"
   ]
  },
  {
   "cell_type": "code",
   "execution_count": null,
   "id": "f64ef96e",
   "metadata": {},
   "outputs": [],
   "source": [
    "\n",
    "# Load NIfTI file from HGG\n",
    "img = nib.load(os.path.join(HGG_path, \"BraTS19_2013_2_1/BraTS19_2013_2_1_flair.nii\"))\n",
    "data = img.get_fdata()\n",
    "data.shape\n",
    "\n"
   ]
  },
  {
   "cell_type": "code",
   "execution_count": null,
   "id": "c9bc87b9",
   "metadata": {},
   "outputs": [],
   "source": [
    "# Load NIfTI file from LGG\n",
    "img = nib.load(os.path.join(LGG_path, \"BraTS19_2013_0_1/BraTS19_2013_0_1_flair.nii\"))\n",
    "data = img.get_fdata()\n",
    "data.shape"
   ]
  },
  {
   "cell_type": "code",
   "execution_count": null,
   "id": "40d72491",
   "metadata": {},
   "outputs": [],
   "source": [
    "\n",
    "# Plot a slice\n",
    "plt.imshow(data[:, :, 80], cmap=\"gray\") # coupe selon z=80 -> faire une video avec toutes les hauteurs? Couper selon les autres axes? \n",
    "plt.title(\"Middle slice of brain MRI\")\n",
    "plt.axis(\"off\")\n",
    "plt.show()"
   ]
  },
  {
   "cell_type": "code",
   "execution_count": null,
   "id": "08a2a83a",
   "metadata": {},
   "outputs": [],
   "source": [
    "\n",
    "imgs = []\n",
    "\n",
    "# selectionner x patients au hasard\n",
    "x = 10\n",
    "patients = [p for p in HGG_path.iterdir() if p.is_dir()]\n",
    "sampled_patients = random.sample(patients, x)\n",
    "print(sampled_patients)\n",
    "\n",
    "# Boucle sur les x patients\n",
    "for patient in sampled_patients:\n",
    "    print(patient.name)\n",
    "    T1 = nib.load(f\"{HGG_path}/{patient.name}/{patient.name}_t1.nii\")\n",
    "    T1CE = nib.load(f\"{HGG_path}/{patient.name}/{patient.name}_t1ce.nii\")\n",
    "    T2 = nib.load(f\"{HGG_path}/{patient.name}/{patient.name}_t2.nii\")\n",
    "    FLAIR = nib.load(f\"{HGG_path}/{patient.name}/{patient.name}_flair.nii\")\n",
    "    SEG = nib.load(f\"{HGG_path}/{patient.name}/{patient.name}_seg.nii\")\n",
    "    imgs.append([T1, T1CE, T2, FLAIR, SEG])\n",
    "\n",
    "\n",
    "# Plot a slice\n",
    "fig, axes = plt.subplots(x, 5, figsize=(20, x*4))  # x rows, 5 columns\n",
    "\n",
    "for i, patient in enumerate(imgs):\n",
    "    for j, img in enumerate(patient):\n",
    "        data = img.get_fdata()\n",
    "        ax = axes[i, j]\n",
    "        ax.imshow(data[:, :, 80], cmap=\"gray\")\n",
    "        ax.set_title(f\"Patient {i+1} - Img {j+1}\")\n",
    "        ax.axis(\"off\")\n"
   ]
  },
  {
   "cell_type": "markdown",
   "id": "d14742f7",
   "metadata": {},
   "source": [
    "# Pre rocessing\n",
    "Nous avons des images en 240x240x155 et nous souhaitons les redimensionner en 240x240x144 (sans alterer les dimensions). \\\n",
    "Nous constatons que sur les grande majorite des images, le cerveau s'arrete a 147 pixels et commence a 3 pixels (sur l'axe z). \\\n",
    "Nous allons donc supprimer les 3 premieres couches ainsi que les 8 dernieres pour supprimer les couches vides et ainsi obtenir des parrallelepipedes de 240x240x144."
   ]
  },
  {
   "cell_type": "code",
   "execution_count": null,
   "id": "63c5b944",
   "metadata": {},
   "outputs": [],
   "source": [
    "data = data[:,:,3:147]\n",
    "data.shape"
   ]
  },
  {
   "cell_type": "markdown",
   "id": "5da7d940",
   "metadata": {},
   "source": [
    "## Save Dataset 2D dans un format .npy injectable dans tensorflow"
   ]
  },
  {
   "cell_type": "markdown",
   "id": "e6265a6f",
   "metadata": {},
   "source": [
    "- **Charger les volumes IRM FLAIR (`*_flair.nii`) et leurs segmentations associées (`*_seg.nii`) pour chaque patient HGG et LGG.**\n",
    "- **Appliquer un crop** sur l’axe Z (profondeur) pour ne conserver que les 144 coupes centrales :  \n",
    "  `volume[:, :, 3:147]` → dimensions finales : `(240, 240, 144)`\n",
    "- **Découper chaque volume 3D** en slices 2D (une par coupe selon Z).\n",
    "- **Sauvegarder chaque slice 2D au format `.npy`** dans la structure suivante :\n",
    "\n",
    "dataset_UNET_2D/ \\\n",
    "| \\\n",
    "|- X/ \\\n",
    "|   |- HGG_BraTS19_XXX_slice_000.npy \\\n",
    "|   |- LGG_BraTS19_YYY_slice_001.npy \\\n",
    "|   |- ... \\\n",
    "| \\\n",
    "|- Y/ \\\n",
    "|   |- HGG_BraTS19_XXX_slice_000.npy \\\n",
    "|   |- LGG_BraTS19_YYY_slice_001.npy \\\n",
    "|   |- ... \\\n",
    "\n",
    "Chaque image dans `X/` correspond à une coupe IRM FLAIR normalisée, et chaque image dans `Y/` est le masque de segmentation associé.\n",
    "\n",
    "Le dossier `dataset_UNET_2D/` constitué de slices 2D prétraitées (entrées FLAIR et masques) constitue la **base d’apprentissage pour le modèle U-Net**, en vue d’une **segmentation précise des zones tumorales sur chaque coupe IRM**."
   ]
  },
  {
   "cell_type": "code",
   "execution_count": null,
   "id": "b548345f",
   "metadata": {},
   "outputs": [],
   "source": [
    "import numpy as np\n",
    "import nibabel as nib\n",
    "from pathlib import Path\n",
    "\n",
    "# Chemins d’entrée\n",
    "HGG_path = Path(\"data/MICCAI_BraTS_2019_Data_Training/HGG\")\n",
    "LGG_path = Path(\"data/MICCAI_BraTS_2019_Data_Training/LGG\")\n",
    "\n",
    "# Chemins de sortie\n",
    "output_X_2D = Path(\"data/MICCAI_BraTS_2019_Data_Training/dataset_UNET_2D/X\")\n",
    "output_Y_2D = Path(\"data/MICCAI_BraTS_2019_Data_Training/dataset_UNET_2D/Y\")\n",
    "\n",
    "output_X_2D.mkdir(parents=True, exist_ok=True)\n",
    "output_Y_2D.mkdir(parents=True, exist_ok=True)\n",
    "\n",
    "def process_patient(patient_dir, tumor_type):\n",
    "    try:\n",
    "        patient_id = patient_dir.name\n",
    "        flair_path = patient_dir / f\"{patient_id}_flair.nii\"\n",
    "        seg_path = patient_dir / f\"{patient_id}_seg.nii\"\n",
    "\n",
    "        flair_data = nib.load(flair_path).get_fdata()[:, :, 3:147]  # crop en Z\n",
    "        seg_data = nib.load(seg_path).get_fdata()[:, :, 3:147]      # crop en Z\n",
    "\n",
    "        # Générer des slices suivant Z\n",
    "        for i in range(flair_data.shape[2]):\n",
    "            img_slice = flair_data[:, :, i]\n",
    "            seg_slice = seg_data[:, :, i]\n",
    "\n",
    "            # Sauvegarde au format .npy\n",
    "            slice_name = f\"{tumor_type}_{patient_id}_slice_{i:03}\"\n",
    "            np.save(output_X_2D / f\"{slice_name}.npy\", img_slice)\n",
    "            np.save(output_Y_2D / f\"{slice_name}.npy\", seg_slice)\n",
    "\n",
    "    except Exception as e:\n",
    "        print(f\"Erreur avec {patient_dir.name}: {e}\")\n",
    "\n",
    "# Appliquer à HGG et LGG\n",
    "for patient in HGG_path.iterdir():\n",
    "    if patient.is_dir():\n",
    "        process_patient(patient, tumor_type=\"HGG\")\n",
    "\n",
    "for patient in LGG_path.iterdir():\n",
    "    if patient.is_dir():\n",
    "        process_patient(patient, tumor_type=\"LGG\")"
   ]
  },
  {
   "cell_type": "markdown",
   "id": "b0e10e4f",
   "metadata": {},
   "source": [
    "# Training"
   ]
  },
  {
   "cell_type": "markdown",
   "id": "bf42ec8a",
   "metadata": {},
   "source": [
    "## UNET"
   ]
  },
  {
   "cell_type": "markdown",
   "id": "a39478ee",
   "metadata": {},
   "source": [
    "### Creation Dataset"
   ]
  },
  {
   "cell_type": "code",
   "execution_count": null,
   "id": "c55ba721",
   "metadata": {},
   "outputs": [],
   "source": [
    "import tensorflow as tf\n",
    "import numpy as np\n",
    "import glob\n",
    "\n",
    "X_paths = sorted(glob.glob((\"data/MICCAI_BraTS_2019_Data_Training/dataset_UNET_2D/X/*.npy\")))\n",
    "Y_paths = sorted(glob.glob((\"data/MICCAI_BraTS_2019_Data_Training/dataset_UNET_2D/Y/*.npy\")))\n",
    "\n",
    "def load_npy_pair(x_path, y_path):\n",
    "    x = np.load(x_path.decode()).astype(np.float32)\n",
    "    y = np.load(y_path.decode()).astype(np.int32)\n",
    "\n",
    "    # Test de validité des classes du masque\n",
    "    # TEMP : Affiche les valeurs uniques du masque\n",
    "    # print(\"UNIQUE LABELS IN y:\", np.unique(y))\n",
    "    assert np.all(np.isin(y, [0, 1, 2, 4])), \"Masque invalide : valeurs inattendues dans y\"\n",
    "    # Remap classes 4 → 3\n",
    "    y[y == 4] = 3\n",
    "\n",
    "    # Normalisation min-max slice par slice\n",
    "    if x.max() > 0:  # éviter division par zéro\n",
    "        x = x / x.max()\n",
    "\n",
    "    # Remplacement des NaN éventuels\n",
    "    x = np.nan_to_num(x)\n",
    "\n",
    "    x = np.expand_dims(x, axis=-1)  # (240, 240, 1)\n",
    "    y = np.expand_dims(y, axis=-1)\n",
    "    return x, y\n",
    "\n",
    "def tf_wrapper(x_path, y_path):\n",
    "    x, y = tf.numpy_function(load_npy_pair, [x_path, y_path], [tf.float32, tf.int32])\n",
    "\n",
    "    # Définir manuellement les shapes pour TensorFlow\n",
    "    x.set_shape((240, 240, 1))\n",
    "    y.set_shape((240, 240, 1))\n",
    "    return x, y\n",
    "\n",
    "# Fonction de construction du dataset\n",
    "def make_dataset(data_pairs, batch_size=8):\n",
    "    X, Y = zip(*data_pairs)\n",
    "    ds = tf.data.Dataset.from_tensor_slices((list(X), list(Y)))\n",
    "    ds = ds.map(tf_wrapper)\n",
    "    ds = ds.shuffle(100)\n",
    "    ds = ds.batch(batch_size)\n",
    "    ds = ds.prefetch(tf.data.AUTOTUNE) # pipeline asynchrone optimisé\n",
    "    return ds\n",
    "\n"
   ]
  },
  {
   "cell_type": "markdown",
   "id": "5fd64afb",
   "metadata": {},
   "source": [
    "### Creation model"
   ]
  },
  {
   "cell_type": "code",
   "execution_count": null,
   "id": "1432c1bf",
   "metadata": {},
   "outputs": [],
   "source": [
    "import tensorflow as tf\n",
    "from tensorflow.keras.models import Model, load_model\n",
    "from tensorflow.keras.layers import Input, BatchNormalization, Dropout, Conv2D, Conv2DTranspose, MaxPooling2D, concatenate\n",
    "from tensorflow.keras.optimizers import Adam\n",
    "from tensorflow.keras.activations import relu\n",
    "from tensorflow.keras.utils import to_categorical\n",
    "from keras import backend as K\n",
    "\n",
    "def encoding_layer(input_layer,output_channels,kernel_size):\n",
    "    conv1 = Conv2D(output_channels, (kernel_size, kernel_size), activation='relu', padding='same',\\\n",
    "                   kernel_initializer=tf.random_normal_initializer(0, 0.02)) (input_layer)\n",
    "    return conv1\n",
    "\n",
    "def bottleneck_layer(input_layer,output_channels,kernel_size):\n",
    "    bottleneck1 = Conv2D(output_channels, (kernel_size, kernel_size), activation='relu', padding='same',\\\n",
    "                         kernel_initializer=tf.random_normal_initializer(0, 0.02)) (input_layer)\n",
    "    bottleneck2 = Conv2D(output_channels, (kernel_size, kernel_size), activation='relu', padding='same',\\\n",
    "                         kernel_initializer=tf.random_normal_initializer(0, 0.02)) (bottleneck1)\n",
    "    return bottleneck2\n",
    "\n",
    "def decoding_layer(input_layer,skip_layer,output_channels,kernel_size,stride):\n",
    "    upconv1 = Conv2DTranspose(output_channels,  (kernel_size, kernel_size),strides=(stride,stride), padding='same',\\\n",
    "                              kernel_initializer=tf.random_normal_initializer(0, 0.02)) (input_layer)\n",
    "    concat1 = concatenate([upconv1, skip_layer])\n",
    "    conv1 = Conv2D(output_channels, kernel_size, activation='relu', padding='same',\\\n",
    "                   kernel_initializer=tf.random_normal_initializer(0, 0.02)) (concat1)\n",
    "    return conv1\n",
    "\n",
    "def create_unet(input_shape=(240,240,1), num_classes=4):\n",
    "    inputs_coarse = Input(input_shape)\n",
    "\n",
    "    encoding_layer1=encoding_layer(inputs_coarse,64,3)\n",
    "    pool1 = MaxPooling2D((2, 2),padding='same') (encoding_layer1)\n",
    "    encoding_layer2=encoding_layer(pool1,128,3)\n",
    "    pool2 = MaxPooling2D((2, 2),padding='same') (encoding_layer2)\n",
    "    encoding_layer3=encoding_layer(pool2,256,3)\n",
    "    pool3 = MaxPooling2D((2, 2),padding='same') (encoding_layer3)\n",
    "    encoding_layer4=encoding_layer(pool3,512,3)\n",
    "    pool4 = MaxPooling2D((2, 2),padding='same') (encoding_layer4)\n",
    "\n",
    "    bottleneck=bottleneck_layer(pool4,1024,3)\n",
    "\n",
    "    decoding_layer1= decoding_layer(bottleneck,encoding_layer4,512,3,2)\n",
    "    decoding_layer2= decoding_layer(decoding_layer1,encoding_layer3,256,3,2)\n",
    "    decoding_layer3 = decoding_layer(decoding_layer2,encoding_layer2,128,3,2)\n",
    "    decoding_layer4 = decoding_layer(decoding_layer3,encoding_layer1,64,3,2)\n",
    "\n",
    "    outputs = Conv2D(num_classes, (1, 1), activation='softmax') (decoding_layer4)\n",
    "\n",
    "    model = Model(inputs=inputs_coarse, outputs=[outputs])\n",
    "    optim=Adam(learning_rate=0.0001)\n",
    "    model.compile(optimizer=optim, loss=['sparse_categorical_crossentropy'], metrics=['accuracy'])\n",
    "    model.summary()\n",
    "    return model"
   ]
  },
  {
   "cell_type": "markdown",
   "id": "5862d0d1",
   "metadata": {},
   "source": [
    "### Training avec Tensorboard"
   ]
  },
  {
   "cell_type": "code",
   "execution_count": null,
   "id": "6037d9c2",
   "metadata": {},
   "outputs": [],
   "source": [
    "# Lancer dans un terminal la commande: tensorboard --logdir \"./logs\"\n",
    "\n",
    "from tensorflow.keras.callbacks import TensorBoard, EarlyStopping, ModelCheckpoint\n",
    "import os\n",
    "\n",
    "EPOCH = 3\n",
    "BATCH_SIZE = 8"
   ]
  },
  {
   "cell_type": "code",
   "execution_count": null,
   "id": "b8bdb296",
   "metadata": {},
   "outputs": [],
   "source": [
    "import random\n",
    "# Creation du dataset\n",
    "\n",
    "## Créer les paires\n",
    "data = list(zip(X_paths, Y_paths))\n",
    "random.shuffle(data)\n",
    "\n",
    "## Split Dataset Train, Val, Test\n",
    "n = len(data)\n",
    "train_data = data[:int(0.8*n)]\n",
    "val_data   = data[int(0.8*n):int(0.9*n)]\n",
    "test_data  = data[int(0.9*n):]\n",
    "\n",
    "# Reduction du datset pour debug\n",
    "# train_data = train_data[:len(train_data)//10]\n",
    "# val_data = val_data[:len(val_data)//10]\n",
    "# test_data = test_data[:len(test_data)//10]\n",
    "\n",
    "train_ds = make_dataset(train_data, batch_size=BATCH_SIZE)\n",
    "val_ds   = make_dataset(val_data, batch_size=BATCH_SIZE)\n",
    "test_ds  = make_dataset(test_data, batch_size=BATCH_SIZE)\n"
   ]
  },
  {
   "cell_type": "code",
   "execution_count": null,
   "id": "1457791a",
   "metadata": {},
   "outputs": [],
   "source": [
    "import tensorflow as tf\n",
    "print(\"GPU Available:\", tf.config.list_physical_devices('GPU'))\n",
    "\n",
    "import tensorflow as tf\n",
    "print(tf.__version__)"
   ]
  },
  {
   "cell_type": "code",
   "execution_count": null,
   "id": "a525c9f5",
   "metadata": {},
   "outputs": [],
   "source": [
    "# Creation du model\n",
    "model = create_unet()\n",
    "print(model)"
   ]
  },
  {
   "cell_type": "code",
   "execution_count": null,
   "id": "4a543da5",
   "metadata": {},
   "outputs": [],
   "source": [
    "print(model)"
   ]
  },
  {
   "cell_type": "code",
   "execution_count": null,
   "id": "b7e161ef",
   "metadata": {},
   "outputs": [],
   "source": [
    "\n",
    "from datetime import datetime\n",
    "\n",
    "tensorboard_callback_unet = TensorBoard(log_dir=(\"logs/unet\"+datetime.now().strftime(\"%Y%m%d-%H%M%S\")))\n",
    "\n",
    "model.fit(\n",
    "    train_ds, \n",
    "    validation_data=val_ds,\n",
    "    epochs=EPOCH,\n",
    "    callbacks=[\n",
    "        tensorboard_callback_unet, \n",
    "        EarlyStopping(monitor='val_loss', patience=3, restore_best_weights=True),\n",
    "        ModelCheckpoint(\"checkpoints/unet_best.h5\", monitor='val_loss', save_best_only=True)\n",
    "        ]\n",
    ")\n",
    "\n",
    "\n",
    "\n"
   ]
  },
  {
   "cell_type": "code",
   "execution_count": null,
   "id": "2f8504ff",
   "metadata": {},
   "outputs": [],
   "source": [
    "model.evaluate(test_ds)"
   ]
  },
  {
   "cell_type": "code",
   "execution_count": null,
   "id": "b2007125",
   "metadata": {},
   "outputs": [
    {
     "ename": "TypeError",
     "evalue": "Could not locate class 'Functional'. Make sure custom classes are decorated with `@keras.saving.register_keras_serializable()`. Full object config: {'module': 'tf_keras.src.engine.functional', 'class_name': 'Functional', 'config': {'name': 'model', 'trainable': True, 'layers': [{'module': 'keras.layers', 'class_name': 'InputLayer', 'config': {'batch_input_shape': [None, 240, 240, 1], 'dtype': 'float32', 'sparse': False, 'ragged': False, 'name': 'input_1'}, 'registered_name': None, 'name': 'input_1', 'inbound_nodes': []}, {'module': 'keras.layers', 'class_name': 'Conv2D', 'config': {'name': 'conv2d', 'trainable': True, 'dtype': 'float32', 'filters': 64, 'kernel_size': [3, 3], 'strides': [1, 1], 'padding': 'same', 'data_format': 'channels_last', 'dilation_rate': [1, 1], 'groups': 1, 'activation': 'relu', 'use_bias': True, 'kernel_initializer': {'module': 'tensorflow.python.ops.init_ops_v2', 'class_name': 'RandomNormal', 'config': {'mean': 0, 'stddev': 0.02, 'seed': None}, 'registered_name': 'RandomNormal'}, 'bias_initializer': {'module': 'keras.initializers', 'class_name': 'Zeros', 'config': {}, 'registered_name': None}, 'kernel_regularizer': None, 'bias_regularizer': None, 'activity_regularizer': None, 'kernel_constraint': None, 'bias_constraint': None}, 'registered_name': None, 'build_config': {'input_shape': [None, 240, 240, 1]}, 'name': 'conv2d', 'inbound_nodes': [[['input_1', 0, 0, {}]]]}, {'module': 'keras.layers', 'class_name': 'MaxPooling2D', 'config': {'name': 'max_pooling2d', 'trainable': True, 'dtype': 'float32', 'pool_size': [2, 2], 'padding': 'same', 'strides': [2, 2], 'data_format': 'channels_last'}, 'registered_name': None, 'build_config': {'input_shape': [None, 240, 240, 64]}, 'name': 'max_pooling2d', 'inbound_nodes': [[['conv2d', 0, 0, {}]]]}, {'module': 'keras.layers', 'class_name': 'Conv2D', 'config': {'name': 'conv2d_1', 'trainable': True, 'dtype': 'float32', 'filters': 128, 'kernel_size': [3, 3], 'strides': [1, 1], 'padding': 'same', 'data_format': 'channels_last', 'dilation_rate': [1, 1], 'groups': 1, 'activation': 'relu', 'use_bias': True, 'kernel_initializer': {'module': 'tensorflow.python.ops.init_ops_v2', 'class_name': 'RandomNormal', 'config': {'mean': 0, 'stddev': 0.02, 'seed': None}, 'registered_name': 'RandomNormal'}, 'bias_initializer': {'module': 'keras.initializers', 'class_name': 'Zeros', 'config': {}, 'registered_name': None}, 'kernel_regularizer': None, 'bias_regularizer': None, 'activity_regularizer': None, 'kernel_constraint': None, 'bias_constraint': None}, 'registered_name': None, 'build_config': {'input_shape': [None, 120, 120, 64]}, 'name': 'conv2d_1', 'inbound_nodes': [[['max_pooling2d', 0, 0, {}]]]}, {'module': 'keras.layers', 'class_name': 'MaxPooling2D', 'config': {'name': 'max_pooling2d_1', 'trainable': True, 'dtype': 'float32', 'pool_size': [2, 2], 'padding': 'same', 'strides': [2, 2], 'data_format': 'channels_last'}, 'registered_name': None, 'build_config': {'input_shape': [None, 120, 120, 128]}, 'name': 'max_pooling2d_1', 'inbound_nodes': [[['conv2d_1', 0, 0, {}]]]}, {'module': 'keras.layers', 'class_name': 'Conv2D', 'config': {'name': 'conv2d_2', 'trainable': True, 'dtype': 'float32', 'filters': 256, 'kernel_size': [3, 3], 'strides': [1, 1], 'padding': 'same', 'data_format': 'channels_last', 'dilation_rate': [1, 1], 'groups': 1, 'activation': 'relu', 'use_bias': True, 'kernel_initializer': {'module': 'tensorflow.python.ops.init_ops_v2', 'class_name': 'RandomNormal', 'config': {'mean': 0, 'stddev': 0.02, 'seed': None}, 'registered_name': 'RandomNormal'}, 'bias_initializer': {'module': 'keras.initializers', 'class_name': 'Zeros', 'config': {}, 'registered_name': None}, 'kernel_regularizer': None, 'bias_regularizer': None, 'activity_regularizer': None, 'kernel_constraint': None, 'bias_constraint': None}, 'registered_name': None, 'build_config': {'input_shape': [None, 60, 60, 128]}, 'name': 'conv2d_2', 'inbound_nodes': [[['max_pooling2d_1', 0, 0, {}]]]}, {'module': 'keras.layers', 'class_name': 'MaxPooling2D', 'config': {'name': 'max_pooling2d_2', 'trainable': True, 'dtype': 'float32', 'pool_size': [2, 2], 'padding': 'same', 'strides': [2, 2], 'data_format': 'channels_last'}, 'registered_name': None, 'build_config': {'input_shape': [None, 60, 60, 256]}, 'name': 'max_pooling2d_2', 'inbound_nodes': [[['conv2d_2', 0, 0, {}]]]}, {'module': 'keras.layers', 'class_name': 'Conv2D', 'config': {'name': 'conv2d_3', 'trainable': True, 'dtype': 'float32', 'filters': 512, 'kernel_size': [3, 3], 'strides': [1, 1], 'padding': 'same', 'data_format': 'channels_last', 'dilation_rate': [1, 1], 'groups': 1, 'activation': 'relu', 'use_bias': True, 'kernel_initializer': {'module': 'tensorflow.python.ops.init_ops_v2', 'class_name': 'RandomNormal', 'config': {'mean': 0, 'stddev': 0.02, 'seed': None}, 'registered_name': 'RandomNormal'}, 'bias_initializer': {'module': 'keras.initializers', 'class_name': 'Zeros', 'config': {}, 'registered_name': None}, 'kernel_regularizer': None, 'bias_regularizer': None, 'activity_regularizer': None, 'kernel_constraint': None, 'bias_constraint': None}, 'registered_name': None, 'build_config': {'input_shape': [None, 30, 30, 256]}, 'name': 'conv2d_3', 'inbound_nodes': [[['max_pooling2d_2', 0, 0, {}]]]}, {'module': 'keras.layers', 'class_name': 'MaxPooling2D', 'config': {'name': 'max_pooling2d_3', 'trainable': True, 'dtype': 'float32', 'pool_size': [2, 2], 'padding': 'same', 'strides': [2, 2], 'data_format': 'channels_last'}, 'registered_name': None, 'build_config': {'input_shape': [None, 30, 30, 512]}, 'name': 'max_pooling2d_3', 'inbound_nodes': [[['conv2d_3', 0, 0, {}]]]}, {'module': 'keras.layers', 'class_name': 'Conv2D', 'config': {'name': 'conv2d_4', 'trainable': True, 'dtype': 'float32', 'filters': 1024, 'kernel_size': [3, 3], 'strides': [1, 1], 'padding': 'same', 'data_format': 'channels_last', 'dilation_rate': [1, 1], 'groups': 1, 'activation': 'relu', 'use_bias': True, 'kernel_initializer': {'module': 'tensorflow.python.ops.init_ops_v2', 'class_name': 'RandomNormal', 'config': {'mean': 0, 'stddev': 0.02, 'seed': None}, 'registered_name': 'RandomNormal'}, 'bias_initializer': {'module': 'keras.initializers', 'class_name': 'Zeros', 'config': {}, 'registered_name': None}, 'kernel_regularizer': None, 'bias_regularizer': None, 'activity_regularizer': None, 'kernel_constraint': None, 'bias_constraint': None}, 'registered_name': None, 'build_config': {'input_shape': [None, 15, 15, 512]}, 'name': 'conv2d_4', 'inbound_nodes': [[['max_pooling2d_3', 0, 0, {}]]]}, {'module': 'keras.layers', 'class_name': 'Conv2D', 'config': {'name': 'conv2d_5', 'trainable': True, 'dtype': 'float32', 'filters': 1024, 'kernel_size': [3, 3], 'strides': [1, 1], 'padding': 'same', 'data_format': 'channels_last', 'dilation_rate': [1, 1], 'groups': 1, 'activation': 'relu', 'use_bias': True, 'kernel_initializer': {'module': 'tensorflow.python.ops.init_ops_v2', 'class_name': 'RandomNormal', 'config': {'mean': 0, 'stddev': 0.02, 'seed': None}, 'registered_name': 'RandomNormal'}, 'bias_initializer': {'module': 'keras.initializers', 'class_name': 'Zeros', 'config': {}, 'registered_name': None}, 'kernel_regularizer': None, 'bias_regularizer': None, 'activity_regularizer': None, 'kernel_constraint': None, 'bias_constraint': None}, 'registered_name': None, 'build_config': {'input_shape': [None, 15, 15, 1024]}, 'name': 'conv2d_5', 'inbound_nodes': [[['conv2d_4', 0, 0, {}]]]}, {'module': 'keras.layers', 'class_name': 'Conv2DTranspose', 'config': {'name': 'conv2d_transpose', 'trainable': True, 'dtype': 'float32', 'filters': 512, 'kernel_size': [3, 3], 'strides': [2, 2], 'padding': 'same', 'data_format': 'channels_last', 'dilation_rate': [1, 1], 'groups': 1, 'activation': 'linear', 'use_bias': True, 'kernel_initializer': {'module': 'tensorflow.python.ops.init_ops_v2', 'class_name': 'RandomNormal', 'config': {'mean': 0, 'stddev': 0.02, 'seed': None}, 'registered_name': 'RandomNormal'}, 'bias_initializer': {'module': 'keras.initializers', 'class_name': 'Zeros', 'config': {}, 'registered_name': None}, 'kernel_regularizer': None, 'bias_regularizer': None, 'activity_regularizer': None, 'kernel_constraint': None, 'bias_constraint': None, 'output_padding': None}, 'registered_name': None, 'build_config': {'input_shape': [None, 15, 15, 1024]}, 'name': 'conv2d_transpose', 'inbound_nodes': [[['conv2d_5', 0, 0, {}]]]}, {'module': 'keras.layers', 'class_name': 'Concatenate', 'config': {'name': 'concatenate', 'trainable': True, 'dtype': 'float32', 'axis': -1}, 'registered_name': None, 'build_config': {'input_shape': [[None, 30, 30, 512], [None, 30, 30, 512]]}, 'name': 'concatenate', 'inbound_nodes': [[['conv2d_transpose', 0, 0, {}], ['conv2d_3', 0, 0, {}]]]}, {'module': 'keras.layers', 'class_name': 'Conv2D', 'config': {'name': 'conv2d_6', 'trainable': True, 'dtype': 'float32', 'filters': 512, 'kernel_size': [3, 3], 'strides': [1, 1], 'padding': 'same', 'data_format': 'channels_last', 'dilation_rate': [1, 1], 'groups': 1, 'activation': 'relu', 'use_bias': True, 'kernel_initializer': {'module': 'tensorflow.python.ops.init_ops_v2', 'class_name': 'RandomNormal', 'config': {'mean': 0, 'stddev': 0.02, 'seed': None}, 'registered_name': 'RandomNormal'}, 'bias_initializer': {'module': 'keras.initializers', 'class_name': 'Zeros', 'config': {}, 'registered_name': None}, 'kernel_regularizer': None, 'bias_regularizer': None, 'activity_regularizer': None, 'kernel_constraint': None, 'bias_constraint': None}, 'registered_name': None, 'build_config': {'input_shape': [None, 30, 30, 1024]}, 'name': 'conv2d_6', 'inbound_nodes': [[['concatenate', 0, 0, {}]]]}, {'module': 'keras.layers', 'class_name': 'Conv2DTranspose', 'config': {'name': 'conv2d_transpose_1', 'trainable': True, 'dtype': 'float32', 'filters': 256, 'kernel_size': [3, 3], 'strides': [2, 2], 'padding': 'same', 'data_format': 'channels_last', 'dilation_rate': [1, 1], 'groups': 1, 'activation': 'linear', 'use_bias': True, 'kernel_initializer': {'module': 'tensorflow.python.ops.init_ops_v2', 'class_name': 'RandomNormal', 'config': {'mean': 0, 'stddev': 0.02, 'seed': None}, 'registered_name': 'RandomNormal'}, 'bias_initializer': {'module': 'keras.initializers', 'class_name': 'Zeros', 'config': {}, 'registered_name': None}, 'kernel_regularizer': None, 'bias_regularizer': None, 'activity_regularizer': None, 'kernel_constraint': None, 'bias_constraint': None, 'output_padding': None}, 'registered_name': None, 'build_config': {'input_shape': [None, 30, 30, 512]}, 'name': 'conv2d_transpose_1', 'inbound_nodes': [[['conv2d_6', 0, 0, {}]]]}, {'module': 'keras.layers', 'class_name': 'Concatenate', 'config': {'name': 'concatenate_1', 'trainable': True, 'dtype': 'float32', 'axis': -1}, 'registered_name': None, 'build_config': {'input_shape': [[None, 60, 60, 256], [None, 60, 60, 256]]}, 'name': 'concatenate_1', 'inbound_nodes': [[['conv2d_transpose_1', 0, 0, {}], ['conv2d_2', 0, 0, {}]]]}, {'module': 'keras.layers', 'class_name': 'Conv2D', 'config': {'name': 'conv2d_7', 'trainable': True, 'dtype': 'float32', 'filters': 256, 'kernel_size': [3, 3], 'strides': [1, 1], 'padding': 'same', 'data_format': 'channels_last', 'dilation_rate': [1, 1], 'groups': 1, 'activation': 'relu', 'use_bias': True, 'kernel_initializer': {'module': 'tensorflow.python.ops.init_ops_v2', 'class_name': 'RandomNormal', 'config': {'mean': 0, 'stddev': 0.02, 'seed': None}, 'registered_name': 'RandomNormal'}, 'bias_initializer': {'module': 'keras.initializers', 'class_name': 'Zeros', 'config': {}, 'registered_name': None}, 'kernel_regularizer': None, 'bias_regularizer': None, 'activity_regularizer': None, 'kernel_constraint': None, 'bias_constraint': None}, 'registered_name': None, 'build_config': {'input_shape': [None, 60, 60, 512]}, 'name': 'conv2d_7', 'inbound_nodes': [[['concatenate_1', 0, 0, {}]]]}, {'module': 'keras.layers', 'class_name': 'Conv2DTranspose', 'config': {'name': 'conv2d_transpose_2', 'trainable': True, 'dtype': 'float32', 'filters': 128, 'kernel_size': [3, 3], 'strides': [2, 2], 'padding': 'same', 'data_format': 'channels_last', 'dilation_rate': [1, 1], 'groups': 1, 'activation': 'linear', 'use_bias': True, 'kernel_initializer': {'module': 'tensorflow.python.ops.init_ops_v2', 'class_name': 'RandomNormal', 'config': {'mean': 0, 'stddev': 0.02, 'seed': None}, 'registered_name': 'RandomNormal'}, 'bias_initializer': {'module': 'keras.initializers', 'class_name': 'Zeros', 'config': {}, 'registered_name': None}, 'kernel_regularizer': None, 'bias_regularizer': None, 'activity_regularizer': None, 'kernel_constraint': None, 'bias_constraint': None, 'output_padding': None}, 'registered_name': None, 'build_config': {'input_shape': [None, 60, 60, 256]}, 'name': 'conv2d_transpose_2', 'inbound_nodes': [[['conv2d_7', 0, 0, {}]]]}, {'module': 'keras.layers', 'class_name': 'Concatenate', 'config': {'name': 'concatenate_2', 'trainable': True, 'dtype': 'float32', 'axis': -1}, 'registered_name': None, 'build_config': {'input_shape': [[None, 120, 120, 128], [None, 120, 120, 128]]}, 'name': 'concatenate_2', 'inbound_nodes': [[['conv2d_transpose_2', 0, 0, {}], ['conv2d_1', 0, 0, {}]]]}, {'module': 'keras.layers', 'class_name': 'Conv2D', 'config': {'name': 'conv2d_8', 'trainable': True, 'dtype': 'float32', 'filters': 128, 'kernel_size': [3, 3], 'strides': [1, 1], 'padding': 'same', 'data_format': 'channels_last', 'dilation_rate': [1, 1], 'groups': 1, 'activation': 'relu', 'use_bias': True, 'kernel_initializer': {'module': 'tensorflow.python.ops.init_ops_v2', 'class_name': 'RandomNormal', 'config': {'mean': 0, 'stddev': 0.02, 'seed': None}, 'registered_name': 'RandomNormal'}, 'bias_initializer': {'module': 'keras.initializers', 'class_name': 'Zeros', 'config': {}, 'registered_name': None}, 'kernel_regularizer': None, 'bias_regularizer': None, 'activity_regularizer': None, 'kernel_constraint': None, 'bias_constraint': None}, 'registered_name': None, 'build_config': {'input_shape': [None, 120, 120, 256]}, 'name': 'conv2d_8', 'inbound_nodes': [[['concatenate_2', 0, 0, {}]]]}, {'module': 'keras.layers', 'class_name': 'Conv2DTranspose', 'config': {'name': 'conv2d_transpose_3', 'trainable': True, 'dtype': 'float32', 'filters': 64, 'kernel_size': [3, 3], 'strides': [2, 2], 'padding': 'same', 'data_format': 'channels_last', 'dilation_rate': [1, 1], 'groups': 1, 'activation': 'linear', 'use_bias': True, 'kernel_initializer': {'module': 'tensorflow.python.ops.init_ops_v2', 'class_name': 'RandomNormal', 'config': {'mean': 0, 'stddev': 0.02, 'seed': None}, 'registered_name': 'RandomNormal'}, 'bias_initializer': {'module': 'keras.initializers', 'class_name': 'Zeros', 'config': {}, 'registered_name': None}, 'kernel_regularizer': None, 'bias_regularizer': None, 'activity_regularizer': None, 'kernel_constraint': None, 'bias_constraint': None, 'output_padding': None}, 'registered_name': None, 'build_config': {'input_shape': [None, 120, 120, 128]}, 'name': 'conv2d_transpose_3', 'inbound_nodes': [[['conv2d_8', 0, 0, {}]]]}, {'module': 'keras.layers', 'class_name': 'Concatenate', 'config': {'name': 'concatenate_3', 'trainable': True, 'dtype': 'float32', 'axis': -1}, 'registered_name': None, 'build_config': {'input_shape': [[None, 240, 240, 64], [None, 240, 240, 64]]}, 'name': 'concatenate_3', 'inbound_nodes': [[['conv2d_transpose_3', 0, 0, {}], ['conv2d', 0, 0, {}]]]}, {'module': 'keras.layers', 'class_name': 'Conv2D', 'config': {'name': 'conv2d_9', 'trainable': True, 'dtype': 'float32', 'filters': 64, 'kernel_size': [3, 3], 'strides': [1, 1], 'padding': 'same', 'data_format': 'channels_last', 'dilation_rate': [1, 1], 'groups': 1, 'activation': 'relu', 'use_bias': True, 'kernel_initializer': {'module': 'tensorflow.python.ops.init_ops_v2', 'class_name': 'RandomNormal', 'config': {'mean': 0, 'stddev': 0.02, 'seed': None}, 'registered_name': 'RandomNormal'}, 'bias_initializer': {'module': 'keras.initializers', 'class_name': 'Zeros', 'config': {}, 'registered_name': None}, 'kernel_regularizer': None, 'bias_regularizer': None, 'activity_regularizer': None, 'kernel_constraint': None, 'bias_constraint': None}, 'registered_name': None, 'build_config': {'input_shape': [None, 240, 240, 128]}, 'name': 'conv2d_9', 'inbound_nodes': [[['concatenate_3', 0, 0, {}]]]}, {'module': 'keras.layers', 'class_name': 'Conv2D', 'config': {'name': 'conv2d_10', 'trainable': True, 'dtype': 'float32', 'filters': 4, 'kernel_size': [1, 1], 'strides': [1, 1], 'padding': 'valid', 'data_format': 'channels_last', 'dilation_rate': [1, 1], 'groups': 1, 'activation': 'softmax', 'use_bias': True, 'kernel_initializer': {'module': 'keras.initializers', 'class_name': 'GlorotUniform', 'config': {'seed': None}, 'registered_name': None}, 'bias_initializer': {'module': 'keras.initializers', 'class_name': 'Zeros', 'config': {}, 'registered_name': None}, 'kernel_regularizer': None, 'bias_regularizer': None, 'activity_regularizer': None, 'kernel_constraint': None, 'bias_constraint': None}, 'registered_name': None, 'build_config': {'input_shape': [None, 240, 240, 64]}, 'name': 'conv2d_10', 'inbound_nodes': [[['conv2d_9', 0, 0, {}]]]}], 'input_layers': [['input_1', 0, 0]], 'output_layers': [['conv2d_10', 0, 0]]}, 'registered_name': 'Functional', 'build_config': {'input_shape': [None, 240, 240, 1]}, 'compile_config': {'optimizer': {'module': 'keras.optimizers', 'class_name': 'Adam', 'config': {'name': 'Adam', 'weight_decay': None, 'clipnorm': None, 'global_clipnorm': None, 'clipvalue': None, 'use_ema': False, 'ema_momentum': 0.99, 'ema_overwrite_frequency': None, 'jit_compile': True, 'is_legacy_optimizer': False, 'learning_rate': 9.999999747378752e-05, 'beta_1': 0.9, 'beta_2': 0.999, 'epsilon': 1e-07, 'amsgrad': False}, 'registered_name': None}, 'loss': ['sparse_categorical_crossentropy'], 'metrics': ['accuracy'], 'loss_weights': None, 'weighted_metrics': None, 'run_eagerly': None, 'steps_per_execution': None, 'jit_compile': None}}",
     "output_type": "error",
     "traceback": [
      "\u001b[0;31m---------------------------------------------------------------------------\u001b[0m",
      "\u001b[0;31mTypeError\u001b[0m                                 Traceback (most recent call last)",
      "Cell \u001b[0;32mIn[5], line 7\u001b[0m\n\u001b[1;32m      3\u001b[0m \u001b[38;5;28;01mimport\u001b[39;00m\u001b[38;5;250m \u001b[39m\u001b[38;5;21;01mos\u001b[39;00m\n\u001b[1;32m      5\u001b[0m \u001b[38;5;66;03m# Load best model\u001b[39;00m\n\u001b[1;32m      6\u001b[0m \u001b[38;5;66;03m# !curl -O path_model\u001b[39;00m\n\u001b[0;32m----> 7\u001b[0m model \u001b[38;5;241m=\u001b[39m \u001b[43mload_model\u001b[49m\u001b[43m(\u001b[49m\u001b[38;5;124;43m\"\u001b[39;49m\u001b[38;5;124;43mcheckpoints/unet_best.keras\u001b[39;49m\u001b[38;5;124;43m\"\u001b[39;49m\u001b[43m)\u001b[49m\n\u001b[1;32m      9\u001b[0m class_names \u001b[38;5;241m=\u001b[39m [\u001b[38;5;124m'\u001b[39m\u001b[38;5;124mFond\u001b[39m\u001b[38;5;124m'\u001b[39m, \u001b[38;5;124m'\u001b[39m\u001b[38;5;124mNécrose\u001b[39m\u001b[38;5;124m'\u001b[39m, \u001b[38;5;124m'\u001b[39m\u001b[38;5;124mŒdème\u001b[39m\u001b[38;5;124m'\u001b[39m, \u001b[38;5;124m'\u001b[39m\u001b[38;5;124mRehaussement\u001b[39m\u001b[38;5;124m'\u001b[39m]\n\u001b[1;32m     10\u001b[0m \u001b[38;5;66;03m# Display FLAIR, ground truth and prediciton\u001b[39;00m\n",
      "File \u001b[0;32m~/CV_project_MRI/venv/lib/python3.10/site-packages/keras/src/saving/saving_api.py:189\u001b[0m, in \u001b[0;36mload_model\u001b[0;34m(filepath, custom_objects, compile, safe_mode)\u001b[0m\n\u001b[1;32m    186\u001b[0m         is_keras_zip \u001b[38;5;241m=\u001b[39m \u001b[38;5;28;01mTrue\u001b[39;00m\n\u001b[1;32m    188\u001b[0m \u001b[38;5;28;01mif\u001b[39;00m is_keras_zip \u001b[38;5;129;01mor\u001b[39;00m is_keras_dir \u001b[38;5;129;01mor\u001b[39;00m is_hf:\n\u001b[0;32m--> 189\u001b[0m     \u001b[38;5;28;01mreturn\u001b[39;00m \u001b[43msaving_lib\u001b[49m\u001b[38;5;241;43m.\u001b[39;49m\u001b[43mload_model\u001b[49m\u001b[43m(\u001b[49m\n\u001b[1;32m    190\u001b[0m \u001b[43m        \u001b[49m\u001b[43mfilepath\u001b[49m\u001b[43m,\u001b[49m\n\u001b[1;32m    191\u001b[0m \u001b[43m        \u001b[49m\u001b[43mcustom_objects\u001b[49m\u001b[38;5;241;43m=\u001b[39;49m\u001b[43mcustom_objects\u001b[49m\u001b[43m,\u001b[49m\n\u001b[1;32m    192\u001b[0m \u001b[43m        \u001b[49m\u001b[38;5;28;43mcompile\u001b[39;49m\u001b[38;5;241;43m=\u001b[39;49m\u001b[38;5;28;43mcompile\u001b[39;49m\u001b[43m,\u001b[49m\n\u001b[1;32m    193\u001b[0m \u001b[43m        \u001b[49m\u001b[43msafe_mode\u001b[49m\u001b[38;5;241;43m=\u001b[39;49m\u001b[43msafe_mode\u001b[49m\u001b[43m,\u001b[49m\n\u001b[1;32m    194\u001b[0m \u001b[43m    \u001b[49m\u001b[43m)\u001b[49m\n\u001b[1;32m    195\u001b[0m \u001b[38;5;28;01mif\u001b[39;00m \u001b[38;5;28mstr\u001b[39m(filepath)\u001b[38;5;241m.\u001b[39mendswith((\u001b[38;5;124m\"\u001b[39m\u001b[38;5;124m.h5\u001b[39m\u001b[38;5;124m\"\u001b[39m, \u001b[38;5;124m\"\u001b[39m\u001b[38;5;124m.hdf5\u001b[39m\u001b[38;5;124m\"\u001b[39m)):\n\u001b[1;32m    196\u001b[0m     \u001b[38;5;28;01mreturn\u001b[39;00m legacy_h5_format\u001b[38;5;241m.\u001b[39mload_model_from_hdf5(\n\u001b[1;32m    197\u001b[0m         filepath, custom_objects\u001b[38;5;241m=\u001b[39mcustom_objects, \u001b[38;5;28mcompile\u001b[39m\u001b[38;5;241m=\u001b[39m\u001b[38;5;28mcompile\u001b[39m\n\u001b[1;32m    198\u001b[0m     )\n",
      "File \u001b[0;32m~/CV_project_MRI/venv/lib/python3.10/site-packages/keras/src/saving/saving_lib.py:370\u001b[0m, in \u001b[0;36mload_model\u001b[0;34m(filepath, custom_objects, compile, safe_mode)\u001b[0m\n\u001b[1;32m    365\u001b[0m     \u001b[38;5;28;01mraise\u001b[39;00m \u001b[38;5;167;01mValueError\u001b[39;00m(\n\u001b[1;32m    366\u001b[0m         \u001b[38;5;124m\"\u001b[39m\u001b[38;5;124mInvalid filename: expected a `.keras` extension. \u001b[39m\u001b[38;5;124m\"\u001b[39m\n\u001b[1;32m    367\u001b[0m         \u001b[38;5;124mf\u001b[39m\u001b[38;5;124m\"\u001b[39m\u001b[38;5;124mReceived: filepath=\u001b[39m\u001b[38;5;132;01m{\u001b[39;00mfilepath\u001b[38;5;132;01m}\u001b[39;00m\u001b[38;5;124m\"\u001b[39m\n\u001b[1;32m    368\u001b[0m     )\n\u001b[1;32m    369\u001b[0m \u001b[38;5;28;01mwith\u001b[39;00m \u001b[38;5;28mopen\u001b[39m(filepath, \u001b[38;5;124m\"\u001b[39m\u001b[38;5;124mrb\u001b[39m\u001b[38;5;124m\"\u001b[39m) \u001b[38;5;28;01mas\u001b[39;00m f:\n\u001b[0;32m--> 370\u001b[0m     \u001b[38;5;28;01mreturn\u001b[39;00m \u001b[43m_load_model_from_fileobj\u001b[49m\u001b[43m(\u001b[49m\n\u001b[1;32m    371\u001b[0m \u001b[43m        \u001b[49m\u001b[43mf\u001b[49m\u001b[43m,\u001b[49m\u001b[43m \u001b[49m\u001b[43mcustom_objects\u001b[49m\u001b[43m,\u001b[49m\u001b[43m \u001b[49m\u001b[38;5;28;43mcompile\u001b[39;49m\u001b[43m,\u001b[49m\u001b[43m \u001b[49m\u001b[43msafe_mode\u001b[49m\n\u001b[1;32m    372\u001b[0m \u001b[43m    \u001b[49m\u001b[43m)\u001b[49m\n",
      "File \u001b[0;32m~/CV_project_MRI/venv/lib/python3.10/site-packages/keras/src/saving/saving_lib.py:447\u001b[0m, in \u001b[0;36m_load_model_from_fileobj\u001b[0;34m(fileobj, custom_objects, compile, safe_mode)\u001b[0m\n\u001b[1;32m    444\u001b[0m \u001b[38;5;28;01mwith\u001b[39;00m zf\u001b[38;5;241m.\u001b[39mopen(_CONFIG_FILENAME, \u001b[38;5;124m\"\u001b[39m\u001b[38;5;124mr\u001b[39m\u001b[38;5;124m\"\u001b[39m) \u001b[38;5;28;01mas\u001b[39;00m f:\n\u001b[1;32m    445\u001b[0m     config_json \u001b[38;5;241m=\u001b[39m f\u001b[38;5;241m.\u001b[39mread()\n\u001b[0;32m--> 447\u001b[0m model \u001b[38;5;241m=\u001b[39m \u001b[43m_model_from_config\u001b[49m\u001b[43m(\u001b[49m\n\u001b[1;32m    448\u001b[0m \u001b[43m    \u001b[49m\u001b[43mconfig_json\u001b[49m\u001b[43m,\u001b[49m\u001b[43m \u001b[49m\u001b[43mcustom_objects\u001b[49m\u001b[43m,\u001b[49m\u001b[43m \u001b[49m\u001b[38;5;28;43mcompile\u001b[39;49m\u001b[43m,\u001b[49m\u001b[43m \u001b[49m\u001b[43msafe_mode\u001b[49m\n\u001b[1;32m    449\u001b[0m \u001b[43m\u001b[49m\u001b[43m)\u001b[49m\n\u001b[1;32m    451\u001b[0m all_filenames \u001b[38;5;241m=\u001b[39m zf\u001b[38;5;241m.\u001b[39mnamelist()\n\u001b[1;32m    452\u001b[0m extract_dir \u001b[38;5;241m=\u001b[39m \u001b[38;5;28;01mNone\u001b[39;00m\n",
      "File \u001b[0;32m~/CV_project_MRI/venv/lib/python3.10/site-packages/keras/src/saving/saving_lib.py:436\u001b[0m, in \u001b[0;36m_model_from_config\u001b[0;34m(config_json, custom_objects, compile, safe_mode)\u001b[0m\n\u001b[1;32m    434\u001b[0m \u001b[38;5;66;03m# Construct the model from the configuration file in the archive.\u001b[39;00m\n\u001b[1;32m    435\u001b[0m \u001b[38;5;28;01mwith\u001b[39;00m ObjectSharingScope():\n\u001b[0;32m--> 436\u001b[0m     model \u001b[38;5;241m=\u001b[39m \u001b[43mdeserialize_keras_object\u001b[49m\u001b[43m(\u001b[49m\n\u001b[1;32m    437\u001b[0m \u001b[43m        \u001b[49m\u001b[43mconfig_dict\u001b[49m\u001b[43m,\u001b[49m\u001b[43m \u001b[49m\u001b[43mcustom_objects\u001b[49m\u001b[43m,\u001b[49m\u001b[43m \u001b[49m\u001b[43msafe_mode\u001b[49m\u001b[38;5;241;43m=\u001b[39;49m\u001b[43msafe_mode\u001b[49m\n\u001b[1;32m    438\u001b[0m \u001b[43m    \u001b[49m\u001b[43m)\u001b[49m\n\u001b[1;32m    439\u001b[0m \u001b[38;5;28;01mreturn\u001b[39;00m model\n",
      "File \u001b[0;32m~/CV_project_MRI/venv/lib/python3.10/site-packages/keras/src/saving/serialization_lib.py:694\u001b[0m, in \u001b[0;36mdeserialize_keras_object\u001b[0;34m(config, custom_objects, safe_mode, **kwargs)\u001b[0m\n\u001b[1;32m    691\u001b[0m     \u001b[38;5;28;01mif\u001b[39;00m obj \u001b[38;5;129;01mis\u001b[39;00m \u001b[38;5;129;01mnot\u001b[39;00m \u001b[38;5;28;01mNone\u001b[39;00m:\n\u001b[1;32m    692\u001b[0m         \u001b[38;5;28;01mreturn\u001b[39;00m obj\n\u001b[0;32m--> 694\u001b[0m \u001b[38;5;28mcls\u001b[39m \u001b[38;5;241m=\u001b[39m \u001b[43m_retrieve_class_or_fn\u001b[49m\u001b[43m(\u001b[49m\n\u001b[1;32m    695\u001b[0m \u001b[43m    \u001b[49m\u001b[43mclass_name\u001b[49m\u001b[43m,\u001b[49m\n\u001b[1;32m    696\u001b[0m \u001b[43m    \u001b[49m\u001b[43mregistered_name\u001b[49m\u001b[43m,\u001b[49m\n\u001b[1;32m    697\u001b[0m \u001b[43m    \u001b[49m\u001b[43mmodule\u001b[49m\u001b[43m,\u001b[49m\n\u001b[1;32m    698\u001b[0m \u001b[43m    \u001b[49m\u001b[43mobj_type\u001b[49m\u001b[38;5;241;43m=\u001b[39;49m\u001b[38;5;124;43m\"\u001b[39;49m\u001b[38;5;124;43mclass\u001b[39;49m\u001b[38;5;124;43m\"\u001b[39;49m\u001b[43m,\u001b[49m\n\u001b[1;32m    699\u001b[0m \u001b[43m    \u001b[49m\u001b[43mfull_config\u001b[49m\u001b[38;5;241;43m=\u001b[39;49m\u001b[43mconfig\u001b[49m\u001b[43m,\u001b[49m\n\u001b[1;32m    700\u001b[0m \u001b[43m    \u001b[49m\u001b[43mcustom_objects\u001b[49m\u001b[38;5;241;43m=\u001b[39;49m\u001b[43mcustom_objects\u001b[49m\u001b[43m,\u001b[49m\n\u001b[1;32m    701\u001b[0m \u001b[43m\u001b[49m\u001b[43m)\u001b[49m\n\u001b[1;32m    703\u001b[0m \u001b[38;5;28;01mif\u001b[39;00m \u001b[38;5;28misinstance\u001b[39m(\u001b[38;5;28mcls\u001b[39m, types\u001b[38;5;241m.\u001b[39mFunctionType):\n\u001b[1;32m    704\u001b[0m     \u001b[38;5;28;01mreturn\u001b[39;00m \u001b[38;5;28mcls\u001b[39m\n",
      "File \u001b[0;32m~/CV_project_MRI/venv/lib/python3.10/site-packages/keras/src/saving/serialization_lib.py:810\u001b[0m, in \u001b[0;36m_retrieve_class_or_fn\u001b[0;34m(name, registered_name, module, obj_type, full_config, custom_objects)\u001b[0m\n\u001b[1;32m    803\u001b[0m         \u001b[38;5;28;01mexcept\u001b[39;00m \u001b[38;5;167;01mModuleNotFoundError\u001b[39;00m:\n\u001b[1;32m    804\u001b[0m             \u001b[38;5;28;01mraise\u001b[39;00m \u001b[38;5;167;01mTypeError\u001b[39;00m(\n\u001b[1;32m    805\u001b[0m                 \u001b[38;5;124mf\u001b[39m\u001b[38;5;124m\"\u001b[39m\u001b[38;5;124mCould not deserialize \u001b[39m\u001b[38;5;132;01m{\u001b[39;00mobj_type\u001b[38;5;132;01m}\u001b[39;00m\u001b[38;5;124m \u001b[39m\u001b[38;5;124m'\u001b[39m\u001b[38;5;132;01m{\u001b[39;00mname\u001b[38;5;132;01m}\u001b[39;00m\u001b[38;5;124m'\u001b[39m\u001b[38;5;124m because \u001b[39m\u001b[38;5;124m\"\u001b[39m\n\u001b[1;32m    806\u001b[0m                 \u001b[38;5;124mf\u001b[39m\u001b[38;5;124m\"\u001b[39m\u001b[38;5;124mits parent module \u001b[39m\u001b[38;5;132;01m{\u001b[39;00mmodule\u001b[38;5;132;01m}\u001b[39;00m\u001b[38;5;124m cannot be imported. \u001b[39m\u001b[38;5;124m\"\u001b[39m\n\u001b[1;32m    807\u001b[0m                 \u001b[38;5;124mf\u001b[39m\u001b[38;5;124m\"\u001b[39m\u001b[38;5;124mFull object config: \u001b[39m\u001b[38;5;132;01m{\u001b[39;00mfull_config\u001b[38;5;132;01m}\u001b[39;00m\u001b[38;5;124m\"\u001b[39m\n\u001b[1;32m    808\u001b[0m             )\n\u001b[0;32m--> 810\u001b[0m \u001b[38;5;28;01mraise\u001b[39;00m \u001b[38;5;167;01mTypeError\u001b[39;00m(\n\u001b[1;32m    811\u001b[0m     \u001b[38;5;124mf\u001b[39m\u001b[38;5;124m\"\u001b[39m\u001b[38;5;124mCould not locate \u001b[39m\u001b[38;5;132;01m{\u001b[39;00mobj_type\u001b[38;5;132;01m}\u001b[39;00m\u001b[38;5;124m \u001b[39m\u001b[38;5;124m'\u001b[39m\u001b[38;5;132;01m{\u001b[39;00mname\u001b[38;5;132;01m}\u001b[39;00m\u001b[38;5;124m'\u001b[39m\u001b[38;5;124m. \u001b[39m\u001b[38;5;124m\"\u001b[39m\n\u001b[1;32m    812\u001b[0m     \u001b[38;5;124m\"\u001b[39m\u001b[38;5;124mMake sure custom classes are decorated with \u001b[39m\u001b[38;5;124m\"\u001b[39m\n\u001b[1;32m    813\u001b[0m     \u001b[38;5;124m\"\u001b[39m\u001b[38;5;124m`@keras.saving.register_keras_serializable()`. \u001b[39m\u001b[38;5;124m\"\u001b[39m\n\u001b[1;32m    814\u001b[0m     \u001b[38;5;124mf\u001b[39m\u001b[38;5;124m\"\u001b[39m\u001b[38;5;124mFull object config: \u001b[39m\u001b[38;5;132;01m{\u001b[39;00mfull_config\u001b[38;5;132;01m}\u001b[39;00m\u001b[38;5;124m\"\u001b[39m\n\u001b[1;32m    815\u001b[0m )\n",
      "\u001b[0;31mTypeError\u001b[0m: Could not locate class 'Functional'. Make sure custom classes are decorated with `@keras.saving.register_keras_serializable()`. Full object config: {'module': 'tf_keras.src.engine.functional', 'class_name': 'Functional', 'config': {'name': 'model', 'trainable': True, 'layers': [{'module': 'keras.layers', 'class_name': 'InputLayer', 'config': {'batch_input_shape': [None, 240, 240, 1], 'dtype': 'float32', 'sparse': False, 'ragged': False, 'name': 'input_1'}, 'registered_name': None, 'name': 'input_1', 'inbound_nodes': []}, {'module': 'keras.layers', 'class_name': 'Conv2D', 'config': {'name': 'conv2d', 'trainable': True, 'dtype': 'float32', 'filters': 64, 'kernel_size': [3, 3], 'strides': [1, 1], 'padding': 'same', 'data_format': 'channels_last', 'dilation_rate': [1, 1], 'groups': 1, 'activation': 'relu', 'use_bias': True, 'kernel_initializer': {'module': 'tensorflow.python.ops.init_ops_v2', 'class_name': 'RandomNormal', 'config': {'mean': 0, 'stddev': 0.02, 'seed': None}, 'registered_name': 'RandomNormal'}, 'bias_initializer': {'module': 'keras.initializers', 'class_name': 'Zeros', 'config': {}, 'registered_name': None}, 'kernel_regularizer': None, 'bias_regularizer': None, 'activity_regularizer': None, 'kernel_constraint': None, 'bias_constraint': None}, 'registered_name': None, 'build_config': {'input_shape': [None, 240, 240, 1]}, 'name': 'conv2d', 'inbound_nodes': [[['input_1', 0, 0, {}]]]}, {'module': 'keras.layers', 'class_name': 'MaxPooling2D', 'config': {'name': 'max_pooling2d', 'trainable': True, 'dtype': 'float32', 'pool_size': [2, 2], 'padding': 'same', 'strides': [2, 2], 'data_format': 'channels_last'}, 'registered_name': None, 'build_config': {'input_shape': [None, 240, 240, 64]}, 'name': 'max_pooling2d', 'inbound_nodes': [[['conv2d', 0, 0, {}]]]}, {'module': 'keras.layers', 'class_name': 'Conv2D', 'config': {'name': 'conv2d_1', 'trainable': True, 'dtype': 'float32', 'filters': 128, 'kernel_size': [3, 3], 'strides': [1, 1], 'padding': 'same', 'data_format': 'channels_last', 'dilation_rate': [1, 1], 'groups': 1, 'activation': 'relu', 'use_bias': True, 'kernel_initializer': {'module': 'tensorflow.python.ops.init_ops_v2', 'class_name': 'RandomNormal', 'config': {'mean': 0, 'stddev': 0.02, 'seed': None}, 'registered_name': 'RandomNormal'}, 'bias_initializer': {'module': 'keras.initializers', 'class_name': 'Zeros', 'config': {}, 'registered_name': None}, 'kernel_regularizer': None, 'bias_regularizer': None, 'activity_regularizer': None, 'kernel_constraint': None, 'bias_constraint': None}, 'registered_name': None, 'build_config': {'input_shape': [None, 120, 120, 64]}, 'name': 'conv2d_1', 'inbound_nodes': [[['max_pooling2d', 0, 0, {}]]]}, {'module': 'keras.layers', 'class_name': 'MaxPooling2D', 'config': {'name': 'max_pooling2d_1', 'trainable': True, 'dtype': 'float32', 'pool_size': [2, 2], 'padding': 'same', 'strides': [2, 2], 'data_format': 'channels_last'}, 'registered_name': None, 'build_config': {'input_shape': [None, 120, 120, 128]}, 'name': 'max_pooling2d_1', 'inbound_nodes': [[['conv2d_1', 0, 0, {}]]]}, {'module': 'keras.layers', 'class_name': 'Conv2D', 'config': {'name': 'conv2d_2', 'trainable': True, 'dtype': 'float32', 'filters': 256, 'kernel_size': [3, 3], 'strides': [1, 1], 'padding': 'same', 'data_format': 'channels_last', 'dilation_rate': [1, 1], 'groups': 1, 'activation': 'relu', 'use_bias': True, 'kernel_initializer': {'module': 'tensorflow.python.ops.init_ops_v2', 'class_name': 'RandomNormal', 'config': {'mean': 0, 'stddev': 0.02, 'seed': None}, 'registered_name': 'RandomNormal'}, 'bias_initializer': {'module': 'keras.initializers', 'class_name': 'Zeros', 'config': {}, 'registered_name': None}, 'kernel_regularizer': None, 'bias_regularizer': None, 'activity_regularizer': None, 'kernel_constraint': None, 'bias_constraint': None}, 'registered_name': None, 'build_config': {'input_shape': [None, 60, 60, 128]}, 'name': 'conv2d_2', 'inbound_nodes': [[['max_pooling2d_1', 0, 0, {}]]]}, {'module': 'keras.layers', 'class_name': 'MaxPooling2D', 'config': {'name': 'max_pooling2d_2', 'trainable': True, 'dtype': 'float32', 'pool_size': [2, 2], 'padding': 'same', 'strides': [2, 2], 'data_format': 'channels_last'}, 'registered_name': None, 'build_config': {'input_shape': [None, 60, 60, 256]}, 'name': 'max_pooling2d_2', 'inbound_nodes': [[['conv2d_2', 0, 0, {}]]]}, {'module': 'keras.layers', 'class_name': 'Conv2D', 'config': {'name': 'conv2d_3', 'trainable': True, 'dtype': 'float32', 'filters': 512, 'kernel_size': [3, 3], 'strides': [1, 1], 'padding': 'same', 'data_format': 'channels_last', 'dilation_rate': [1, 1], 'groups': 1, 'activation': 'relu', 'use_bias': True, 'kernel_initializer': {'module': 'tensorflow.python.ops.init_ops_v2', 'class_name': 'RandomNormal', 'config': {'mean': 0, 'stddev': 0.02, 'seed': None}, 'registered_name': 'RandomNormal'}, 'bias_initializer': {'module': 'keras.initializers', 'class_name': 'Zeros', 'config': {}, 'registered_name': None}, 'kernel_regularizer': None, 'bias_regularizer': None, 'activity_regularizer': None, 'kernel_constraint': None, 'bias_constraint': None}, 'registered_name': None, 'build_config': {'input_shape': [None, 30, 30, 256]}, 'name': 'conv2d_3', 'inbound_nodes': [[['max_pooling2d_2', 0, 0, {}]]]}, {'module': 'keras.layers', 'class_name': 'MaxPooling2D', 'config': {'name': 'max_pooling2d_3', 'trainable': True, 'dtype': 'float32', 'pool_size': [2, 2], 'padding': 'same', 'strides': [2, 2], 'data_format': 'channels_last'}, 'registered_name': None, 'build_config': {'input_shape': [None, 30, 30, 512]}, 'name': 'max_pooling2d_3', 'inbound_nodes': [[['conv2d_3', 0, 0, {}]]]}, {'module': 'keras.layers', 'class_name': 'Conv2D', 'config': {'name': 'conv2d_4', 'trainable': True, 'dtype': 'float32', 'filters': 1024, 'kernel_size': [3, 3], 'strides': [1, 1], 'padding': 'same', 'data_format': 'channels_last', 'dilation_rate': [1, 1], 'groups': 1, 'activation': 'relu', 'use_bias': True, 'kernel_initializer': {'module': 'tensorflow.python.ops.init_ops_v2', 'class_name': 'RandomNormal', 'config': {'mean': 0, 'stddev': 0.02, 'seed': None}, 'registered_name': 'RandomNormal'}, 'bias_initializer': {'module': 'keras.initializers', 'class_name': 'Zeros', 'config': {}, 'registered_name': None}, 'kernel_regularizer': None, 'bias_regularizer': None, 'activity_regularizer': None, 'kernel_constraint': None, 'bias_constraint': None}, 'registered_name': None, 'build_config': {'input_shape': [None, 15, 15, 512]}, 'name': 'conv2d_4', 'inbound_nodes': [[['max_pooling2d_3', 0, 0, {}]]]}, {'module': 'keras.layers', 'class_name': 'Conv2D', 'config': {'name': 'conv2d_5', 'trainable': True, 'dtype': 'float32', 'filters': 1024, 'kernel_size': [3, 3], 'strides': [1, 1], 'padding': 'same', 'data_format': 'channels_last', 'dilation_rate': [1, 1], 'groups': 1, 'activation': 'relu', 'use_bias': True, 'kernel_initializer': {'module': 'tensorflow.python.ops.init_ops_v2', 'class_name': 'RandomNormal', 'config': {'mean': 0, 'stddev': 0.02, 'seed': None}, 'registered_name': 'RandomNormal'}, 'bias_initializer': {'module': 'keras.initializers', 'class_name': 'Zeros', 'config': {}, 'registered_name': None}, 'kernel_regularizer': None, 'bias_regularizer': None, 'activity_regularizer': None, 'kernel_constraint': None, 'bias_constraint': None}, 'registered_name': None, 'build_config': {'input_shape': [None, 15, 15, 1024]}, 'name': 'conv2d_5', 'inbound_nodes': [[['conv2d_4', 0, 0, {}]]]}, {'module': 'keras.layers', 'class_name': 'Conv2DTranspose', 'config': {'name': 'conv2d_transpose', 'trainable': True, 'dtype': 'float32', 'filters': 512, 'kernel_size': [3, 3], 'strides': [2, 2], 'padding': 'same', 'data_format': 'channels_last', 'dilation_rate': [1, 1], 'groups': 1, 'activation': 'linear', 'use_bias': True, 'kernel_initializer': {'module': 'tensorflow.python.ops.init_ops_v2', 'class_name': 'RandomNormal', 'config': {'mean': 0, 'stddev': 0.02, 'seed': None}, 'registered_name': 'RandomNormal'}, 'bias_initializer': {'module': 'keras.initializers', 'class_name': 'Zeros', 'config': {}, 'registered_name': None}, 'kernel_regularizer': None, 'bias_regularizer': None, 'activity_regularizer': None, 'kernel_constraint': None, 'bias_constraint': None, 'output_padding': None}, 'registered_name': None, 'build_config': {'input_shape': [None, 15, 15, 1024]}, 'name': 'conv2d_transpose', 'inbound_nodes': [[['conv2d_5', 0, 0, {}]]]}, {'module': 'keras.layers', 'class_name': 'Concatenate', 'config': {'name': 'concatenate', 'trainable': True, 'dtype': 'float32', 'axis': -1}, 'registered_name': None, 'build_config': {'input_shape': [[None, 30, 30, 512], [None, 30, 30, 512]]}, 'name': 'concatenate', 'inbound_nodes': [[['conv2d_transpose', 0, 0, {}], ['conv2d_3', 0, 0, {}]]]}, {'module': 'keras.layers', 'class_name': 'Conv2D', 'config': {'name': 'conv2d_6', 'trainable': True, 'dtype': 'float32', 'filters': 512, 'kernel_size': [3, 3], 'strides': [1, 1], 'padding': 'same', 'data_format': 'channels_last', 'dilation_rate': [1, 1], 'groups': 1, 'activation': 'relu', 'use_bias': True, 'kernel_initializer': {'module': 'tensorflow.python.ops.init_ops_v2', 'class_name': 'RandomNormal', 'config': {'mean': 0, 'stddev': 0.02, 'seed': None}, 'registered_name': 'RandomNormal'}, 'bias_initializer': {'module': 'keras.initializers', 'class_name': 'Zeros', 'config': {}, 'registered_name': None}, 'kernel_regularizer': None, 'bias_regularizer': None, 'activity_regularizer': None, 'kernel_constraint': None, 'bias_constraint': None}, 'registered_name': None, 'build_config': {'input_shape': [None, 30, 30, 1024]}, 'name': 'conv2d_6', 'inbound_nodes': [[['concatenate', 0, 0, {}]]]}, {'module': 'keras.layers', 'class_name': 'Conv2DTranspose', 'config': {'name': 'conv2d_transpose_1', 'trainable': True, 'dtype': 'float32', 'filters': 256, 'kernel_size': [3, 3], 'strides': [2, 2], 'padding': 'same', 'data_format': 'channels_last', 'dilation_rate': [1, 1], 'groups': 1, 'activation': 'linear', 'use_bias': True, 'kernel_initializer': {'module': 'tensorflow.python.ops.init_ops_v2', 'class_name': 'RandomNormal', 'config': {'mean': 0, 'stddev': 0.02, 'seed': None}, 'registered_name': 'RandomNormal'}, 'bias_initializer': {'module': 'keras.initializers', 'class_name': 'Zeros', 'config': {}, 'registered_name': None}, 'kernel_regularizer': None, 'bias_regularizer': None, 'activity_regularizer': None, 'kernel_constraint': None, 'bias_constraint': None, 'output_padding': None}, 'registered_name': None, 'build_config': {'input_shape': [None, 30, 30, 512]}, 'name': 'conv2d_transpose_1', 'inbound_nodes': [[['conv2d_6', 0, 0, {}]]]}, {'module': 'keras.layers', 'class_name': 'Concatenate', 'config': {'name': 'concatenate_1', 'trainable': True, 'dtype': 'float32', 'axis': -1}, 'registered_name': None, 'build_config': {'input_shape': [[None, 60, 60, 256], [None, 60, 60, 256]]}, 'name': 'concatenate_1', 'inbound_nodes': [[['conv2d_transpose_1', 0, 0, {}], ['conv2d_2', 0, 0, {}]]]}, {'module': 'keras.layers', 'class_name': 'Conv2D', 'config': {'name': 'conv2d_7', 'trainable': True, 'dtype': 'float32', 'filters': 256, 'kernel_size': [3, 3], 'strides': [1, 1], 'padding': 'same', 'data_format': 'channels_last', 'dilation_rate': [1, 1], 'groups': 1, 'activation': 'relu', 'use_bias': True, 'kernel_initializer': {'module': 'tensorflow.python.ops.init_ops_v2', 'class_name': 'RandomNormal', 'config': {'mean': 0, 'stddev': 0.02, 'seed': None}, 'registered_name': 'RandomNormal'}, 'bias_initializer': {'module': 'keras.initializers', 'class_name': 'Zeros', 'config': {}, 'registered_name': None}, 'kernel_regularizer': None, 'bias_regularizer': None, 'activity_regularizer': None, 'kernel_constraint': None, 'bias_constraint': None}, 'registered_name': None, 'build_config': {'input_shape': [None, 60, 60, 512]}, 'name': 'conv2d_7', 'inbound_nodes': [[['concatenate_1', 0, 0, {}]]]}, {'module': 'keras.layers', 'class_name': 'Conv2DTranspose', 'config': {'name': 'conv2d_transpose_2', 'trainable': True, 'dtype': 'float32', 'filters': 128, 'kernel_size': [3, 3], 'strides': [2, 2], 'padding': 'same', 'data_format': 'channels_last', 'dilation_rate': [1, 1], 'groups': 1, 'activation': 'linear', 'use_bias': True, 'kernel_initializer': {'module': 'tensorflow.python.ops.init_ops_v2', 'class_name': 'RandomNormal', 'config': {'mean': 0, 'stddev': 0.02, 'seed': None}, 'registered_name': 'RandomNormal'}, 'bias_initializer': {'module': 'keras.initializers', 'class_name': 'Zeros', 'config': {}, 'registered_name': None}, 'kernel_regularizer': None, 'bias_regularizer': None, 'activity_regularizer': None, 'kernel_constraint': None, 'bias_constraint': None, 'output_padding': None}, 'registered_name': None, 'build_config': {'input_shape': [None, 60, 60, 256]}, 'name': 'conv2d_transpose_2', 'inbound_nodes': [[['conv2d_7', 0, 0, {}]]]}, {'module': 'keras.layers', 'class_name': 'Concatenate', 'config': {'name': 'concatenate_2', 'trainable': True, 'dtype': 'float32', 'axis': -1}, 'registered_name': None, 'build_config': {'input_shape': [[None, 120, 120, 128], [None, 120, 120, 128]]}, 'name': 'concatenate_2', 'inbound_nodes': [[['conv2d_transpose_2', 0, 0, {}], ['conv2d_1', 0, 0, {}]]]}, {'module': 'keras.layers', 'class_name': 'Conv2D', 'config': {'name': 'conv2d_8', 'trainable': True, 'dtype': 'float32', 'filters': 128, 'kernel_size': [3, 3], 'strides': [1, 1], 'padding': 'same', 'data_format': 'channels_last', 'dilation_rate': [1, 1], 'groups': 1, 'activation': 'relu', 'use_bias': True, 'kernel_initializer': {'module': 'tensorflow.python.ops.init_ops_v2', 'class_name': 'RandomNormal', 'config': {'mean': 0, 'stddev': 0.02, 'seed': None}, 'registered_name': 'RandomNormal'}, 'bias_initializer': {'module': 'keras.initializers', 'class_name': 'Zeros', 'config': {}, 'registered_name': None}, 'kernel_regularizer': None, 'bias_regularizer': None, 'activity_regularizer': None, 'kernel_constraint': None, 'bias_constraint': None}, 'registered_name': None, 'build_config': {'input_shape': [None, 120, 120, 256]}, 'name': 'conv2d_8', 'inbound_nodes': [[['concatenate_2', 0, 0, {}]]]}, {'module': 'keras.layers', 'class_name': 'Conv2DTranspose', 'config': {'name': 'conv2d_transpose_3', 'trainable': True, 'dtype': 'float32', 'filters': 64, 'kernel_size': [3, 3], 'strides': [2, 2], 'padding': 'same', 'data_format': 'channels_last', 'dilation_rate': [1, 1], 'groups': 1, 'activation': 'linear', 'use_bias': True, 'kernel_initializer': {'module': 'tensorflow.python.ops.init_ops_v2', 'class_name': 'RandomNormal', 'config': {'mean': 0, 'stddev': 0.02, 'seed': None}, 'registered_name': 'RandomNormal'}, 'bias_initializer': {'module': 'keras.initializers', 'class_name': 'Zeros', 'config': {}, 'registered_name': None}, 'kernel_regularizer': None, 'bias_regularizer': None, 'activity_regularizer': None, 'kernel_constraint': None, 'bias_constraint': None, 'output_padding': None}, 'registered_name': None, 'build_config': {'input_shape': [None, 120, 120, 128]}, 'name': 'conv2d_transpose_3', 'inbound_nodes': [[['conv2d_8', 0, 0, {}]]]}, {'module': 'keras.layers', 'class_name': 'Concatenate', 'config': {'name': 'concatenate_3', 'trainable': True, 'dtype': 'float32', 'axis': -1}, 'registered_name': None, 'build_config': {'input_shape': [[None, 240, 240, 64], [None, 240, 240, 64]]}, 'name': 'concatenate_3', 'inbound_nodes': [[['conv2d_transpose_3', 0, 0, {}], ['conv2d', 0, 0, {}]]]}, {'module': 'keras.layers', 'class_name': 'Conv2D', 'config': {'name': 'conv2d_9', 'trainable': True, 'dtype': 'float32', 'filters': 64, 'kernel_size': [3, 3], 'strides': [1, 1], 'padding': 'same', 'data_format': 'channels_last', 'dilation_rate': [1, 1], 'groups': 1, 'activation': 'relu', 'use_bias': True, 'kernel_initializer': {'module': 'tensorflow.python.ops.init_ops_v2', 'class_name': 'RandomNormal', 'config': {'mean': 0, 'stddev': 0.02, 'seed': None}, 'registered_name': 'RandomNormal'}, 'bias_initializer': {'module': 'keras.initializers', 'class_name': 'Zeros', 'config': {}, 'registered_name': None}, 'kernel_regularizer': None, 'bias_regularizer': None, 'activity_regularizer': None, 'kernel_constraint': None, 'bias_constraint': None}, 'registered_name': None, 'build_config': {'input_shape': [None, 240, 240, 128]}, 'name': 'conv2d_9', 'inbound_nodes': [[['concatenate_3', 0, 0, {}]]]}, {'module': 'keras.layers', 'class_name': 'Conv2D', 'config': {'name': 'conv2d_10', 'trainable': True, 'dtype': 'float32', 'filters': 4, 'kernel_size': [1, 1], 'strides': [1, 1], 'padding': 'valid', 'data_format': 'channels_last', 'dilation_rate': [1, 1], 'groups': 1, 'activation': 'softmax', 'use_bias': True, 'kernel_initializer': {'module': 'keras.initializers', 'class_name': 'GlorotUniform', 'config': {'seed': None}, 'registered_name': None}, 'bias_initializer': {'module': 'keras.initializers', 'class_name': 'Zeros', 'config': {}, 'registered_name': None}, 'kernel_regularizer': None, 'bias_regularizer': None, 'activity_regularizer': None, 'kernel_constraint': None, 'bias_constraint': None}, 'registered_name': None, 'build_config': {'input_shape': [None, 240, 240, 64]}, 'name': 'conv2d_10', 'inbound_nodes': [[['conv2d_9', 0, 0, {}]]]}], 'input_layers': [['input_1', 0, 0]], 'output_layers': [['conv2d_10', 0, 0]]}, 'registered_name': 'Functional', 'build_config': {'input_shape': [None, 240, 240, 1]}, 'compile_config': {'optimizer': {'module': 'keras.optimizers', 'class_name': 'Adam', 'config': {'name': 'Adam', 'weight_decay': None, 'clipnorm': None, 'global_clipnorm': None, 'clipvalue': None, 'use_ema': False, 'ema_momentum': 0.99, 'ema_overwrite_frequency': None, 'jit_compile': True, 'is_legacy_optimizer': False, 'learning_rate': 9.999999747378752e-05, 'beta_1': 0.9, 'beta_2': 0.999, 'epsilon': 1e-07, 'amsgrad': False}, 'registered_name': None}, 'loss': ['sparse_categorical_crossentropy'], 'metrics': ['accuracy'], 'loss_weights': None, 'weighted_metrics': None, 'run_eagerly': None, 'steps_per_execution': None, 'jit_compile': None}}"
     ]
    }
   ],
   "source": [
    "import tensorflow as tf\n",
    "from tensorflow.keras.models import load_model\n",
    "import os\n",
    "\n",
    "# Load best model\n",
    "# !curl -O path_model\n",
    "model = load_model(\"checkpoints/unet_best.h5\")\n",
    "\n",
    "class_names = ['Fond', 'Nécrose', 'Œdème', 'Rehaussement']\n",
    "# Display FLAIR, ground truth and prediciton\n",
    "def display_prediction(model, dataset, class_names=class_names, num_samples=3):\n",
    "    \"\"\"\n",
    "    Affiche des échantillons (FLAIR, masque GT, prédiction) à partir du modèle et du dataset.\n",
    "\n",
    "    Args:\n",
    "        model: modèle Keras entraîné\n",
    "        dataset: tf.data.Dataset (ex: val_ds ou test_ds)\n",
    "        class_names: liste des noms de classes (ex: ['fond', 'nécrose', 'œdème', 'rehaussement'])\n",
    "        num_samples: nombre d’échantillons à afficher\n",
    "    \"\"\"\n",
    "    for x_batch, y_batch in dataset.take(1):\n",
    "        preds = model.predict(x_batch)\n",
    "\n",
    "        # Convertir softmax → classe prédite (par pixel)\n",
    "        preds_classes = np.argmax(preds, axis=-1)\n",
    "        y_true_classes = np.squeeze(y_batch.numpy(), axis=-1)\n",
    "\n",
    "        for i in range(num_samples):\n",
    "            img = np.squeeze(x_batch[i].numpy(), axis=-1)\n",
    "            gt = y_true_classes[i]\n",
    "            pred = preds_classes[i]\n",
    "\n",
    "            fig, axes = plt.subplots(1, 3, figsize=(15, 5))\n",
    "            titles = ['FLAIR slice', 'Ground truth mask', 'Predicted mask']\n",
    "\n",
    "            for j, data in enumerate([img, gt, pred]):\n",
    "                axes[j].imshow(data, cmap='gray' if j == 0 else 'nipy_spectral', vmin=0, vmax=3)\n",
    "                axes[j].set_title(titles[j])\n",
    "                axes[j].axis('off')\n",
    "\n",
    "            if class_names:\n",
    "                cmap = plt.get_cmap('nipy_spectral')\n",
    "                patches = [plt.plot([],[], marker=\"s\", ls=\"\", color=cmap(i/len(class_names)))[0]\n",
    "                           for i in range(len(class_names))]\n",
    "                plt.legend(patches, class_names, bbox_to_anchor=(1.05, 1), loc='upper left')\n",
    "\n",
    "            plt.tight_layout()\n",
    "            plt.show()"
   ]
  },
  {
   "cell_type": "code",
   "execution_count": null,
   "id": "8b36ba8f",
   "metadata": {},
   "outputs": [],
   "source": [
    "display_prediction(model, test_ds, num_samples=5)"
   ]
  },
  {
   "cell_type": "markdown",
   "id": "ac23fcb8",
   "metadata": {},
   "source": [
    "# Evaluation"
   ]
  },
  {
   "cell_type": "code",
   "execution_count": null,
   "id": "48271345",
   "metadata": {},
   "outputs": [],
   "source": [
    "from sklearn.metrics import precision_score, recall_score\n",
    "import numpy as np\n",
    "\n",
    "def evaluate_segmentation(model, dataset):\n",
    "    all_preds = []\n",
    "    all_truths = []\n",
    "\n",
    "    for x_batch, y_batch in dataset:\n",
    "        preds = model.predict(x_batch)\n",
    "        preds_classes = np.argmax(preds, axis=-1).flatten()\n",
    "        y_true = y_batch.numpy().squeeze().flatten()\n",
    "\n",
    "        # Binarisation : tumeur = 1, fond = 0\n",
    "        preds_binary = (preds_classes > 0).astype(np.uint8)\n",
    "        y_binary = (y_true > 0).astype(np.uint8)\n",
    "\n",
    "        all_preds.extend(preds_binary)\n",
    "        all_truths.extend(y_binary)\n",
    "\n",
    "    recall = recall_score(all_truths, all_preds)\n",
    "    precision = precision_score(all_truths, all_preds)\n",
    "\n",
    "    print(f\"Recall (Sensibilité) : {recall:.4f}\")\n",
    "    print(f\"Precision           : {precision:.4f}\")\n",
    "\n",
    "    return recall, precision"
   ]
  },
  {
   "cell_type": "code",
   "execution_count": null,
   "id": "f59217f3",
   "metadata": {},
   "outputs": [],
   "source": [
    "evaluate_segmentation(model, test_ds)"
   ]
  }
 ],
 "metadata": {
  "celltoolbar": "Slideshow",
  "kernelspec": {
   "display_name": "venv",
   "language": "python",
   "name": "python3"
  },
  "language_info": {
   "codemirror_mode": {
    "name": "ipython",
    "version": 3
   },
   "file_extension": ".py",
   "mimetype": "text/x-python",
   "name": "python",
   "nbconvert_exporter": "python",
   "pygments_lexer": "ipython3",
   "version": "3.10.11"
  }
 },
 "nbformat": 4,
 "nbformat_minor": 5
}
